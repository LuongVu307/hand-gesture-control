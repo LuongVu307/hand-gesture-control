{
 "cells": [
  {
   "cell_type": "markdown",
   "id": "6862f33a-4a46-4605-bc87-35328a971f6f",
   "metadata": {},
   "source": [
    "# 1. Data Loading"
   ]
  },
  {
   "cell_type": "code",
   "execution_count": 1,
   "id": "06e8915e-3b52-4636-b3db-d086ff9d0e13",
   "metadata": {},
   "outputs": [],
   "source": [
    "import pandas as pd"
   ]
  },
  {
   "cell_type": "code",
   "execution_count": 2,
   "id": "928cb28f-fd95-429e-b404-e087f185f880",
   "metadata": {},
   "outputs": [
    {
     "data": {
      "text/html": [
       "<div>\n",
       "<style scoped>\n",
       "    .dataframe tbody tr th:only-of-type {\n",
       "        vertical-align: middle;\n",
       "    }\n",
       "\n",
       "    .dataframe tbody tr th {\n",
       "        vertical-align: top;\n",
       "    }\n",
       "\n",
       "    .dataframe thead th {\n",
       "        text-align: right;\n",
       "    }\n",
       "</style>\n",
       "<table border=\"1\" class=\"dataframe\">\n",
       "  <thead>\n",
       "    <tr style=\"text-align: right;\">\n",
       "      <th></th>\n",
       "      <th>x0</th>\n",
       "      <th>y0</th>\n",
       "      <th>z0</th>\n",
       "      <th>x1</th>\n",
       "      <th>y1</th>\n",
       "      <th>z1</th>\n",
       "      <th>x2</th>\n",
       "      <th>y2</th>\n",
       "      <th>z2</th>\n",
       "      <th>x3</th>\n",
       "      <th>...</th>\n",
       "      <th>x18</th>\n",
       "      <th>y18</th>\n",
       "      <th>z18</th>\n",
       "      <th>x19</th>\n",
       "      <th>y19</th>\n",
       "      <th>z19</th>\n",
       "      <th>x20</th>\n",
       "      <th>y20</th>\n",
       "      <th>z20</th>\n",
       "      <th>label</th>\n",
       "    </tr>\n",
       "  </thead>\n",
       "  <tbody>\n",
       "    <tr>\n",
       "      <th>0</th>\n",
       "      <td>0.688042</td>\n",
       "      <td>0.700020</td>\n",
       "      <td>2.561087e-07</td>\n",
       "      <td>0.640759</td>\n",
       "      <td>0.663233</td>\n",
       "      <td>-0.022524</td>\n",
       "      <td>0.608725</td>\n",
       "      <td>0.605538</td>\n",
       "      <td>-0.035291</td>\n",
       "      <td>0.592945</td>\n",
       "      <td>...</td>\n",
       "      <td>0.765235</td>\n",
       "      <td>0.480283</td>\n",
       "      <td>-0.059032</td>\n",
       "      <td>0.776120</td>\n",
       "      <td>0.438878</td>\n",
       "      <td>-0.065384</td>\n",
       "      <td>0.784501</td>\n",
       "      <td>0.398382</td>\n",
       "      <td>-0.069742</td>\n",
       "      <td>open</td>\n",
       "    </tr>\n",
       "    <tr>\n",
       "      <th>1</th>\n",
       "      <td>0.711716</td>\n",
       "      <td>0.716972</td>\n",
       "      <td>2.573172e-07</td>\n",
       "      <td>0.664054</td>\n",
       "      <td>0.684561</td>\n",
       "      <td>-0.022689</td>\n",
       "      <td>0.632173</td>\n",
       "      <td>0.627511</td>\n",
       "      <td>-0.035391</td>\n",
       "      <td>0.618769</td>\n",
       "      <td>...</td>\n",
       "      <td>0.793670</td>\n",
       "      <td>0.505004</td>\n",
       "      <td>-0.061250</td>\n",
       "      <td>0.805855</td>\n",
       "      <td>0.464771</td>\n",
       "      <td>-0.067961</td>\n",
       "      <td>0.815643</td>\n",
       "      <td>0.425370</td>\n",
       "      <td>-0.072280</td>\n",
       "      <td>open</td>\n",
       "    </tr>\n",
       "    <tr>\n",
       "      <th>2</th>\n",
       "      <td>0.548860</td>\n",
       "      <td>0.611752</td>\n",
       "      <td>2.525175e-07</td>\n",
       "      <td>0.481311</td>\n",
       "      <td>0.592329</td>\n",
       "      <td>-0.021184</td>\n",
       "      <td>0.423613</td>\n",
       "      <td>0.532470</td>\n",
       "      <td>-0.033919</td>\n",
       "      <td>0.387368</td>\n",
       "      <td>...</td>\n",
       "      <td>0.577573</td>\n",
       "      <td>0.345062</td>\n",
       "      <td>-0.076135</td>\n",
       "      <td>0.576743</td>\n",
       "      <td>0.294505</td>\n",
       "      <td>-0.085051</td>\n",
       "      <td>0.572816</td>\n",
       "      <td>0.246706</td>\n",
       "      <td>-0.091199</td>\n",
       "      <td>open</td>\n",
       "    </tr>\n",
       "    <tr>\n",
       "      <th>3</th>\n",
       "      <td>0.791440</td>\n",
       "      <td>0.529967</td>\n",
       "      <td>2.680049e-07</td>\n",
       "      <td>0.756496</td>\n",
       "      <td>0.480869</td>\n",
       "      <td>-0.021271</td>\n",
       "      <td>0.738438</td>\n",
       "      <td>0.414938</td>\n",
       "      <td>-0.032568</td>\n",
       "      <td>0.732894</td>\n",
       "      <td>...</td>\n",
       "      <td>0.885519</td>\n",
       "      <td>0.325044</td>\n",
       "      <td>-0.052023</td>\n",
       "      <td>0.899423</td>\n",
       "      <td>0.287775</td>\n",
       "      <td>-0.056960</td>\n",
       "      <td>0.911963</td>\n",
       "      <td>0.251833</td>\n",
       "      <td>-0.060264</td>\n",
       "      <td>open</td>\n",
       "    </tr>\n",
       "    <tr>\n",
       "      <th>4</th>\n",
       "      <td>0.669671</td>\n",
       "      <td>0.467266</td>\n",
       "      <td>9.930871e-08</td>\n",
       "      <td>0.650013</td>\n",
       "      <td>0.430608</td>\n",
       "      <td>-0.008232</td>\n",
       "      <td>0.639716</td>\n",
       "      <td>0.386478</td>\n",
       "      <td>-0.012907</td>\n",
       "      <td>0.635871</td>\n",
       "      <td>...</td>\n",
       "      <td>0.741437</td>\n",
       "      <td>0.364336</td>\n",
       "      <td>-0.026824</td>\n",
       "      <td>0.750501</td>\n",
       "      <td>0.344461</td>\n",
       "      <td>-0.028599</td>\n",
       "      <td>0.757931</td>\n",
       "      <td>0.325684</td>\n",
       "      <td>-0.029970</td>\n",
       "      <td>open</td>\n",
       "    </tr>\n",
       "  </tbody>\n",
       "</table>\n",
       "<p>5 rows × 64 columns</p>\n",
       "</div>"
      ],
      "text/plain": [
       "         x0        y0            z0       x1         y1        z1        x2  \\\n",
       "0  0.688042  0.700020  2.561087e-07  0.640759  0.663233 -0.022524  0.608725   \n",
       "1  0.711716  0.716972  2.573172e-07  0.664054  0.684561 -0.022689  0.632173   \n",
       "2  0.548860  0.611752  2.525175e-07  0.481311  0.592329 -0.021184  0.423613   \n",
       "3  0.791440  0.529967  2.680049e-07  0.756496  0.480869 -0.021271  0.738438   \n",
       "4  0.669671  0.467266  9.930871e-08  0.650013  0.430608 -0.008232  0.639716   \n",
       "\n",
       "         y2        z2        x3  ...       x18       y18       z18       x19  \\\n",
       "0  0.605538 -0.035291  0.592945  ...  0.765235  0.480283 -0.059032  0.776120   \n",
       "1  0.627511 -0.035391  0.618769  ...  0.793670  0.505004 -0.061250  0.805855   \n",
       "2  0.532470 -0.033919  0.387368  ...  0.577573  0.345062 -0.076135  0.576743   \n",
       "3  0.414938 -0.032568  0.732894  ...  0.885519  0.325044 -0.052023  0.899423   \n",
       "4  0.386478 -0.012907  0.635871  ...  0.741437  0.364336 -0.026824  0.750501   \n",
       "\n",
       "        y19       z19       x20       y20       z20  label  \n",
       "0  0.438878 -0.065384  0.784501  0.398382 -0.069742   open  \n",
       "1  0.464771 -0.067961  0.815643  0.425370 -0.072280   open  \n",
       "2  0.294505 -0.085051  0.572816  0.246706 -0.091199   open  \n",
       "3  0.287775 -0.056960  0.911963  0.251833 -0.060264   open  \n",
       "4  0.344461 -0.028599  0.757931  0.325684 -0.029970   open  \n",
       "\n",
       "[5 rows x 64 columns]"
      ]
     },
     "execution_count": 2,
     "metadata": {},
     "output_type": "execute_result"
    }
   ],
   "source": [
    "data = pd.read_csv(\"data.csv\")\n",
    "\n",
    "data.head()"
   ]
  },
  {
   "cell_type": "code",
   "execution_count": 20,
   "id": "1007a53d-20d3-45c4-bcf0-84699b31b0ae",
   "metadata": {},
   "outputs": [],
   "source": [
    "# Create a 3D hand plot function\n",
    "\n",
    "import matplotlib.pyplot as plt\n",
    "from mpl_toolkits.mplot3d import Axes3D  # needed for 3D plots\n",
    "import numpy as np \n",
    "\n",
    "\n",
    "def plot_hand(landmarks):\n",
    "    connections = [\n",
    "    (0, 1), (1, 2), (2, 3), (3, 4),     # Thumb\n",
    "    (0, 5), (5, 6), (6, 7), (7, 8),     # Index\n",
    "    (0, 9), (9, 10), (10, 11), (11, 12),# Middle\n",
    "    (0, 13), (13, 14), (14, 15), (15, 16), # Ring\n",
    "    (0, 17), (17, 18), (18, 19), (19, 20)  # Pinky\n",
    "]\n",
    "\n",
    "    fig = plt.figure(figsize=(4, 4))\n",
    "    ax = fig.add_subplot(111, projection=\"3d\")\n",
    "    \n",
    "    width  = landmarks[:, 0]   # X (width)\n",
    "    height = landmarks[:, 1]   # Y (height)\n",
    "    depth  = landmarks[:, 2]   # Z (depth)\n",
    "    \n",
    "    # Plot using raw columns (X, Y, Z)\n",
    "    ax.scatter(width, height, depth, c=\"r\", marker=\"o\")\n",
    "    \n",
    "    for start, end in connections:\n",
    "        xs = [width[start], width[end]]\n",
    "        ys = [height[start], height[end]]\n",
    "        zs = [depth[start], depth[end]]\n",
    "        ax.plot(xs, ys, zs, c='k')\n",
    "    \n",
    "    ax.set_xlabel('Width (X)')\n",
    "    ax.set_ylabel('Height (Y)')\n",
    "    ax.set_zlabel('Depth (Z)')\n",
    "    \n",
    "    ax.set_xticks([])\n",
    "    ax.set_yticks([])\n",
    "    ax.set_zticks([])\n",
    "\n",
    "    if (width + height).min().item() < 0:    \n",
    "        ax.set_xlim(-1, 1)   # Width range\n",
    "        ax.set_ylim(-1, 1)   # Height range\n",
    "    else:\n",
    "        ax.set_xlim(0, 1)   # Width range\n",
    "        ax.set_ylim(0, 1)   # Height range    \n",
    "    ax.set_zlim(-0.2, 0.2)  # Depth range\n",
    "\n",
    "    ax.grid(True)\n",
    "    \n",
    "    ax.view_init(elev=270, azim=90)\n",
    "    plt.show()\n"
   ]
  },
  {
   "cell_type": "code",
   "execution_count": 4,
   "id": "2137ffa2-92f6-4218-bb42-d3eaa9bb8462",
   "metadata": {},
   "outputs": [
    {
     "data": {
      "image/png": "[encoded data removed]",
      "text/plain": [
       "<Figure size 400x400 with 1 Axes>"
      ]
     },
     "metadata": {},
     "output_type": "display_data"
    },
    {
     "name": "stdout",
     "output_type": "stream",
     "text": [
      "point_down\n"
     ]
    }
   ],
   "source": [
    "# Plotting with matplotlib\n",
    "import numpy as np\n",
    "choice = np.random.randint(0, len(data))\n",
    "sample = np.array(data.iloc[choice][:-1]).reshape(-1, 3)\n",
    "gesture = data.iloc[choice][\"label\"]\n",
    "\n",
    "plot_hand(sample)\n",
    "\n",
    "print(gesture)"
   ]
  },
  {
   "cell_type": "markdown",
   "id": "24f50f1c-f1be-4112-b867-6e892f6b1b94",
   "metadata": {},
   "source": [
    "# 2. Data Preprocessing"
   ]
  },
  {
   "cell_type": "markdown",
   "id": "b909cf2c-dd83-4406-9de7-7dda1f69f7ff",
   "metadata": {},
   "source": [
    "## 2.1 Dataset class "
   ]
  },
  {
   "cell_type": "code",
   "execution_count": 5,
   "id": "a4459d35-2209-4e7a-aa37-5198348956d3",
   "metadata": {},
   "outputs": [],
   "source": [
    "import torch\n",
    "from torch.utils.data import Dataset\n",
    "\n",
    "class LandmarkData(Dataset):\n",
    "    def __init__(self, csv_file, transform=None):\n",
    "        df = pd.read_csv(csv_file)\n",
    "        \n",
    "        self.X = df.iloc[:, :-1].values.astype('float32')\n",
    "        self.label_str = df.iloc[:, -1].values\n",
    "\n",
    "        self.label_to_idx = {label : idx for idx, label in enumerate(sorted(set(self.label_str)))}\n",
    "        self.idx_to_label = {idx : label for label, idx in self.label_to_idx.items()}\n",
    "\n",
    "        self.y = [self.label_to_idx[label] for label in self.label_str]\n",
    "\n",
    "        self.transform = transform\n",
    "\n",
    "    def __len__(self):\n",
    "        return len(self.X)\n",
    "\n",
    "    def __getitem__(self, idx):\n",
    "        features = torch.tensor(self.X[idx])\n",
    "        label = torch.tensor(self.y[idx], dtype=torch.long)\n",
    "\n",
    "        if self.transform:\n",
    "            features = self.transform(features)\n",
    "\n",
    "\n",
    "        return features, label"
   ]
  },
  {
   "cell_type": "code",
   "execution_count": 6,
   "id": "3c54660f-2586-4a46-aa7a-ec5ad4ed40e5",
   "metadata": {},
   "outputs": [
    {
     "data": {
      "text/plain": [
       "(tensor([ 3.7371e-01,  5.5149e-01, -3.9597e-07,  3.2044e-01,  5.4853e-01,\n",
       "         -4.0027e-03,  2.6072e-01,  5.0284e-01, -7.1124e-03,  2.2577e-01,\n",
       "          4.6382e-01, -1.4179e-02,  1.9195e-01,  4.4398e-01, -2.1650e-02,\n",
       "          2.7906e-01,  3.9347e-01, -3.0888e-03,  2.4141e-01,  3.2504e-01,\n",
       "         -2.4158e-02,  2.1607e-01,  2.8522e-01, -3.6259e-02,  1.9500e-01,\n",
       "          2.5020e-01, -4.5543e-02,  3.0964e-01,  3.8073e-01, -1.3981e-02,\n",
       "          2.6842e-01,  3.6509e-01, -4.7429e-02,  2.8543e-01,  4.3715e-01,\n",
       "         -4.9796e-02,  3.0681e-01,  4.6104e-01, -4.3683e-02,  3.4381e-01,\n",
       "          3.7483e-01, -2.7593e-02,  3.0201e-01,  3.6592e-01, -6.0605e-02,\n",
       "          3.1657e-01,  4.3629e-01, -4.6199e-02,  3.3661e-01,  4.5377e-01,\n",
       "         -2.8695e-02,  3.8293e-01,  3.7451e-01, -4.1933e-02,  3.4363e-01,\n",
       "          3.6595e-01, -6.1371e-02,  3.4637e-01,  4.1796e-01, -4.9240e-02,\n",
       "          3.6188e-01,  4.3202e-01, -3.5900e-02]),\n",
       " tensor(3))"
      ]
     },
     "execution_count": 6,
     "metadata": {},
     "output_type": "execute_result"
    }
   ],
   "source": [
    "# Example: \n",
    "\n",
    "data = LandmarkData(\n",
    "    csv_file = \"data.csv\"\n",
    ")\n",
    "\n",
    "data[np.random.randint(0, len(data))]"
   ]
  },
  {
   "cell_type": "code",
   "execution_count": 7,
   "id": "f76e379c-33b5-4d94-945c-672c0ed41677",
   "metadata": {},
   "outputs": [],
   "source": [
    "class TripletWrapper(Dataset):\n",
    "    def __init__(self, base_data):\n",
    "        self.base = base_data\n",
    "\n",
    "        self.labels = [label for _, label in base_data]\n",
    "        \n",
    "        # Group indices by label for sampling\n",
    "        self.class_to_indices = {}\n",
    "        for idx, label in enumerate(self.labels):\n",
    "            self.class_to_indices.setdefault(label.item() if torch.is_tensor(label) else label, []).append(idx)\n",
    "\n",
    "    def __len__(self):\n",
    "        return len(self.base)\n",
    "\n",
    "    def __getitem__(self, idx):\n",
    "        anchor_feat, anchor_label = self.base[idx]\n",
    "        anchor_label_val = anchor_label.item() if torch.is_tensor(anchor_label) else anchor_label\n",
    "\n",
    "        # Positive (same label)\n",
    "        pos_idx = np.random.choice([i for i in self.class_to_indices[anchor_label_val] if i != idx])\n",
    "        positive_feat, _ = self.base[pos_idx]\n",
    "\n",
    "        # Negative (different label)\n",
    "        neg_label_val = np.random.choice([l for l in self.class_to_indices.keys() if l != anchor_label_val])\n",
    "        neg_idx = np.random.choice(self.class_to_indices[neg_label_val])\n",
    "        negative_feat, _ = self.base[neg_idx]\n",
    "\n",
    "        return anchor_feat, positive_feat, negative_feat\n"
   ]
  },
  {
   "cell_type": "code",
   "execution_count": 8,
   "id": "2ac3c1b1-dd1e-4f18-8bed-406b2b60dbf8",
   "metadata": {},
   "outputs": [
    {
     "data": {
      "image/png": "[encoded data removed]",
      "text/plain": [
       "<Figure size 400x400 with 1 Axes>"
      ]
     },
     "metadata": {},
     "output_type": "display_data"
    },
    {
     "data": {
      "image/png": "[encoded data removed]",
      "text/plain": [
       "<Figure size 400x400 with 1 Axes>"
      ]
     },
     "metadata": {},
     "output_type": "display_data"
    },
    {
     "data": {
      "image/png": "[encoded data removed]",
      "text/plain": [
       "<Figure size 400x400 with 1 Axes>"
      ]
     },
     "metadata": {},
     "output_type": "display_data"
    }
   ],
   "source": [
    "triplet_data = TripletWrapper(data)\n",
    "\n",
    "example = np.random.randint(len(triplet_data))\n",
    "\n",
    "plot_hand(triplet_data[example][0].reshape(-1, 3))\n",
    "plot_hand(triplet_data[example][1].reshape(-1, 3))\n",
    "plot_hand(triplet_data[example][2].reshape(-1, 3))"
   ]
  },
  {
   "cell_type": "markdown",
   "id": "9ca551de-dc22-4bdd-b4dc-e5bebb609f7c",
   "metadata": {},
   "source": [
    "## 2.2 Normalization"
   ]
  },
  {
   "cell_type": "code",
   "execution_count": 9,
   "id": "c0450e76-990f-45d6-b0a8-9b7d1a721728",
   "metadata": {},
   "outputs": [],
   "source": [
    "class HandNormalizer:\n",
    "    def __init__(self, wrist_idx=0):\n",
    "        self.wrist_idx = wrist_idx\n",
    "\n",
    "    def __call__(self, landmarks):\n",
    "        landmarks = np.array(landmarks).reshape(-1, 3)\n",
    "\n",
    "        # 1. Translate: wrist at origin\n",
    "        wrist = landmarks[self.wrist_idx]\n",
    "        landmarks -= wrist\n",
    "\n",
    "        # 2. Scale: max distance from wrist to any point = 1\n",
    "        scale = np.max(np.linalg.norm(landmarks, axis=1))\n",
    "        if scale > 1e-8:\n",
    "            landmarks /= scale\n",
    "\n",
    "        return landmarks.flatten()\n"
   ]
  },
  {
   "cell_type": "code",
   "execution_count": 10,
   "id": "d53de962-cef7-4eb4-a248-b053108a85b0",
   "metadata": {},
   "outputs": [
    {
     "data": {
      "image/png": "[encoded data removed]",
      "text/plain": [
       "<Figure size 400x400 with 1 Axes>"
      ]
     },
     "metadata": {},
     "output_type": "display_data"
    },
    {
     "name": "stdout",
     "output_type": "stream",
     "text": [
      "tensor(2)\n"
     ]
    }
   ],
   "source": [
    "choice = np.random.randint(0, len(data))\n",
    "sample, gesture = data[choice]\n",
    "normalizer = HandNormalizer()\n",
    "\n",
    "sample = sample.reshape(-1, 3)\n",
    "scaled_sample = normalizer(sample).reshape(-1, 3)\n",
    "\n",
    "plot_hand(scaled_sample)\n",
    "# print(sample)\n",
    "# print(scaled_sample)\n",
    "\n",
    "print(gesture)"
   ]
  },
  {
   "cell_type": "code",
   "execution_count": 11,
   "id": "31c2bee5-d9b8-44ee-a853-aa08d54dbe36",
   "metadata": {},
   "outputs": [
    {
     "name": "stdout",
     "output_type": "stream",
     "text": [
      "0.09665709 0.30443296 -0.47609425 0.979016\n"
     ]
    }
   ],
   "source": [
    "print(scaled_sample.mean(), scaled_sample.std(), scaled_sample.min(), scaled_sample.max())"
   ]
  },
  {
   "cell_type": "markdown",
   "id": "c2cf10b3-381d-4304-a37a-5eddc74816c4",
   "metadata": {},
   "source": [
    "## 2.3 Feature Engineer"
   ]
  },
  {
   "cell_type": "code",
   "execution_count": 12,
   "id": "c66ffe45-c067-4612-89e3-29cb226a1d4e",
   "metadata": {},
   "outputs": [],
   "source": [
    "class HandFeature:\n",
    "    def __init__(self, methods=[\"coords\", \"distances\", \"angle\"]):\n",
    "        self.methods = methods\n",
    "\n",
    "    def __call__(self, landmarks):\n",
    "        landmarks = np.array(landmarks).reshape(-1, 3)\n",
    "\n",
    "        features = []\n",
    "\n",
    "        if \"coords\" in self.methods:\n",
    "            features.extend(landmarks.flatten())\n",
    "\n",
    "        if \"distances\" in self.methods:\n",
    "            for i in range(len(landmarks)):\n",
    "                for j in range(i+1, len(landmarks)):\n",
    "                    dist = np.linalg.norm(landmarks[i] - landmarks[j])\n",
    "                    features.append(dist)\n",
    "                    \n",
    "        if \"angle\" in self.methods:\n",
    "            finger_chains = [\n",
    "                [0, 1, 2, 3, 4],     # Thumb\n",
    "                [0, 5, 6, 7, 8],     # Index\n",
    "                [0, 9, 10, 11, 12],  # Middle\n",
    "                [0, 13, 14, 15, 16], # Ring\n",
    "                [0, 17, 18, 19, 20]  # Pinky\n",
    "            ]\n",
    "            for chain in finger_chains:\n",
    "                for k in range(len(chain)-2):\n",
    "                    v1 = landmarks[chain[k+1]] - landmarks[chain[k]]\n",
    "                    v2 = landmarks[chain[k+2]] - landmarks[chain[k+1]]\n",
    "                    cosang = np.dot(v1, v2) / (np.linalg.norm(v1)*np.linalg.norm(v2))\n",
    "                    angle = np.degrees(np.arccos(np.clip(cosang, -1.0, 1.0)))\n",
    "                    features.append(angle)\n",
    "\n",
    "        return np.array(features, dtype=np.float32)\n",
    "\n",
    "        "
   ]
  },
  {
   "cell_type": "code",
   "execution_count": 13,
   "id": "8f559899-2114-486d-85bb-13dcd0154331",
   "metadata": {},
   "outputs": [
    {
     "data": {
      "image/png": "[encoded data removed]",
      "text/plain": [
       "<Figure size 400x400 with 1 Axes>"
      ]
     },
     "metadata": {},
     "output_type": "display_data"
    },
    {
     "name": "stdout",
     "output_type": "stream",
     "text": [
      "Size of Input:  288\n",
      "tensor(2)\n"
     ]
    }
   ],
   "source": [
    "choice = np.random.randint(0, len(data))\n",
    "sample, gesture = data[choice]\n",
    "FE = HandFeature()\n",
    "\n",
    "sample = sample.reshape(-1, 3)\n",
    "FE_sample = FE(sample)\n",
    "\n",
    "plot_hand(sample)\n",
    "\n",
    "print(\"Size of Input: \", FE_sample.shape[0])\n",
    "print(gesture)"
   ]
  },
  {
   "cell_type": "markdown",
   "id": "688d7628-def4-450d-8996-87238421f192",
   "metadata": {},
   "source": [
    "## 2.4 Processing Pipeline"
   ]
  },
  {
   "cell_type": "code",
   "execution_count": 14,
   "id": "3c45786c-0637-41d7-b1cf-85322de62518",
   "metadata": {},
   "outputs": [],
   "source": [
    "from torchvision import transforms\n",
    "\n",
    "\n",
    "pipeline = transforms.Compose([\n",
    "    HandNormalizer(),\n",
    "    HandFeature(),\n",
    "])\n",
    "\n",
    "raw_data = LandmarkData(\n",
    "    csv_file = \"data.csv\",\n",
    "    transform = pipeline,\n",
    ")\n",
    "\n",
    "dataset = TripletWrapper(raw_data)\n",
    "\n"
   ]
  },
  {
   "cell_type": "code",
   "execution_count": null,
   "id": "dd3d218f-93ad-47ac-9f4a-256aefb11a5b",
   "metadata": {},
   "outputs": [],
   "source": [
    "from torch.utils.data import DataLoader, random_split\n",
    "\n",
    "BATCH_SIZE = 32\n",
    "\n",
    "dataset_size = len(dataset)\n",
    "train_size = int(0.8 * dataset_size)\n",
    "val_size = dataset_size - train_size\n",
    "\n",
    "train_dataset, val_dataset = random_split(dataset, [train_size, val_size])\n",
    "\n",
    "train_loader = DataLoader(\n",
    "    dataset = train_dataset,\n",
    "    batch_size = BATCH_SIZE,\n",
    "    shuffle = True\n",
    ")\n",
    "\n",
    "val_loader = DataLoader(\n",
    "    dataset = val_dataset,\n",
    "    batch_size = BATCH_SIZE,\n",
    "    shuffle = False\n",
    ")"
   ]
  },
  {
   "cell_type": "markdown",
   "id": "363f953f-5942-4a95-b41c-4a11179faadd",
   "metadata": {},
   "source": [
    "# 3. Training"
   ]
  },
  {
   "cell_type": "markdown",
   "id": "90666a7f-d11d-4f89-bf05-d3b643f990a6",
   "metadata": {},
   "source": [
    "## 3.1 Embedding Model"
   ]
  },
  {
   "cell_type": "code",
   "execution_count": 29,
   "id": "79b04f44-2d86-4725-9c0c-3152bc426824",
   "metadata": {},
   "outputs": [],
   "source": [
    "import torch\n",
    "import torch.nn as nn\n",
    "import torch.nn.functional as F\n",
    "\n",
    "class LandmarkEmbedding(nn.Module):\n",
    "    def __init__(self, input_dim, emb_dim = 128):\n",
    "        super().__init__()\n",
    "\n",
    "        self.net = nn.Sequential(\n",
    "            nn.Linear(input_dim, 256),  nn.ReLU(),\n",
    "            nn.Linear(256, 128), nn.ReLU(),\n",
    "            nn.Linear(128, emb_dim)\n",
    "        )\n",
    "\n",
    "    def forward(self, X):\n",
    "        z = self.net(X)\n",
    "        return F.normalize(z, p=2, dim=1)\n",
    "        \n"
   ]
  },
  {
   "cell_type": "code",
   "execution_count": 30,
   "id": "b62c3ab5-fe86-4e85-9de6-c45c2c33efd8",
   "metadata": {},
   "outputs": [
    {
     "name": "stdout",
     "output_type": "stream",
     "text": [
      "Device:  cuda\n",
      "Learning Rate:  0.001\n"
     ]
    }
   ],
   "source": [
    "import torch\n",
    "from torch.optim import Adam\n",
    "from torch.nn import TripletMarginLoss\n",
    "\n",
    "device = torch.device(\"cuda\" if torch.cuda.is_available() else \"cpu\")\n",
    "print(\"Device: \", device)\n",
    "\n",
    "LR = 1e-3\n",
    "print(\"Learning Rate: \", LR)"
   ]
  },
  {
   "cell_type": "code",
   "execution_count": 40,
   "id": "46dd4105-ef97-4fc5-ab39-fe2f61ef5d23",
   "metadata": {},
   "outputs": [
    {
     "name": "stdout",
     "output_type": "stream",
     "text": [
      "Epoch 01 | train 0.0584 | val 0.0750\n",
      "Epoch 02 | train 0.0312 | val 0.0607\n",
      "Epoch 03 | train 0.0262 | val 0.0477\n",
      "Epoch 04 | train 0.0195 | val 0.0682\n",
      "Epoch 05 | train 0.0344 | val 0.0410\n",
      "Epoch 06 | train 0.0156 | val 0.0219\n",
      "Epoch 07 | train 0.0098 | val 0.0239\n",
      "Epoch 08 | train 0.0067 | val 0.0429\n",
      "Epoch 09 | train 0.0045 | val 0.0280\n",
      "Epoch 10 | train 0.0084 | val 0.0119\n",
      "Epoch 11 | train 0.0162 | val 0.0025\n",
      "Epoch 12 | train 0.0038 | val 0.0147\n",
      "Epoch 13 | train 0.0075 | val 0.0140\n",
      "Epoch 14 | train 0.0040 | val 0.0172\n",
      "Epoch 15 | train 0.0052 | val 0.0060\n",
      "Epoch 16 | train 0.0078 | val 0.0000\n",
      "Epoch 17 | train 0.0000 | val 0.0063\n",
      "Epoch 18 | train 0.0003 | val 0.0014\n",
      "Epoch 19 | train 0.0005 | val 0.0007\n",
      "Epoch 20 | train 0.0000 | val 0.0000\n"
     ]
    }
   ],
   "source": [
    "model = LandmarkEmbedding(input_dim = 288).to(device)\n",
    "\n",
    "optimizer = Adam(model.parameters(), lr=LR, weight_decay=1e-4)\n",
    "criterion = TripletMarginLoss(margin=.3, p=2)\n",
    "\n",
    "def run_epoch(loader, train=True):\n",
    "    model.train(mode=train)\n",
    "    epoch_loss = 0.0\n",
    "\n",
    "    with torch.set_grad_enabled(train):\n",
    "        for a, p, n in train_loader:\n",
    "            a, p, n = a.to(device), p.to(device), n.to(device)\n",
    "            za, zp, zn = model(a), model(p), model(n)\n",
    "\n",
    "            loss = criterion(za, zp, zn)\n",
    "\n",
    "            if train:\n",
    "                optimizer.zero_grad()\n",
    "                loss.backward()\n",
    "                optimizer.step()\n",
    "\n",
    "            epoch_loss += loss.item()\n",
    "\n",
    "        return epoch_loss / max(1, len(loader))\n",
    "        \n",
    "for epoch in range(20):\n",
    "    tr = run_epoch(train_loader, train=True)\n",
    "    va = run_epoch(val_loader,   train=False)\n",
    "    print(f\"Epoch {epoch+1:02d} | train {tr:.4f} | val {va:.4f}\")\n"
   ]
  },
  {
   "cell_type": "markdown",
   "id": "cb1568c3-9fbe-4ba8-8859-0f94e82ea6be",
   "metadata": {},
   "source": [
    "## 3.2 Saving"
   ]
  },
  {
   "cell_type": "code",
   "execution_count": 87,
   "id": "7f05119b-d094-4a15-8cd8-4c39b2916d25",
   "metadata": {},
   "outputs": [
    {
     "data": {
      "text/plain": [
       "{0: 'close', 1: 'open', 2: 'point_down', 3: 'point_up'}"
      ]
     },
     "execution_count": 87,
     "metadata": {},
     "output_type": "execute_result"
    }
   ],
   "source": [
    "with torch.no_grad():\n",
    "    # Unpack raw_data into separate lists of numpy arrays and targets\n",
    "    landmarks, targets = zip(*raw_data)\n",
    "    \n",
    "    # Convert landmarks (a list of numpy arrays) into a PyTorch tensor\n",
    "    landmarks = torch.from_numpy(np.array(landmarks)).to(device)\n",
    "    \n",
    "    # Convert targets (a list of numbers) into a PyTorch tensor\n",
    "    targets = torch.tensor(targets).to(device)\n",
    "\n",
    "    # Get unique target labels\n",
    "    unique_targets = torch.unique(targets)\n",
    "    \n",
    "    # Calculate embeddings for all landmarks at once\n",
    "    embeddings = model(landmarks)\n",
    "\n",
    "    # Prepare a list to store the mean embeddings\n",
    "    mean_embeddings = []\n",
    "    \n",
    "    # Efficiently calculate the mean embedding for each unique target\n",
    "    for target in unique_targets:\n",
    "        mask = (targets == target)\n",
    "        mean_embedding = embeddings[mask].mean(dim=0)\n",
    "        mean_embeddings.append(mean_embedding)\n",
    "\n",
    "    # Stack the mean embeddings into a single tensor\n",
    "    mean_embeddings = torch.stack(mean_embeddings)\n",
    "    \n",
    "    # Create a mapping from unique targets to their mean embeddings\n",
    "    mapper = {target.item(): mean_embeddings[i] for i, target in enumerate(unique_targets)}\n",
    "    converter = raw_data.idx_to_label\n",
    "\n",
    "converter"
   ]
  },
  {
   "cell_type": "code",
   "execution_count": 16,
   "id": "8d875350-61f6-486d-8e7a-ca60efd932b0",
   "metadata": {},
   "outputs": [],
   "source": [
    "import torch.nn.functional as F\n",
    "\n",
    "def converter(embeded, prototype, label):\n",
    "    similarities = F.cosine_similarity(embeded, prototype)\n",
    "    # print(similarities)  # higher = more similar\n",
    "    best_idx = torch.argmax(similarities)\n",
    "\n",
    "    return label[best_idx]"
   ]
  },
  {
   "cell_type": "code",
   "execution_count": 94,
   "id": "daa51ad9-d4fd-4009-b406-5703e2aeaf8a",
   "metadata": {},
   "outputs": [],
   "source": [
    "labels = list(mapper.keys())\n",
    "prototypes = list(mapper.values())\n",
    "\n",
    "\n",
    "prototypes_tensor = torch.stack(prototypes).cpu()\n",
    "np.save('prototypes.npy', prototypes_tensor.numpy())\n",
    "\n",
    "labels_array = np.array(labels)\n",
    "labels_array = [converter[i] for i in labels_array]\n",
    "np.save('labels.npy', labels_array, allow_pickle=True)"
   ]
  },
  {
   "cell_type": "code",
   "execution_count": 95,
   "id": "c82de164-14e9-4ab2-8fed-26ffd0c586ad",
   "metadata": {},
   "outputs": [],
   "source": [
    "torch.save(model.state_dict(), \"model.pth\")"
   ]
  },
  {
   "cell_type": "code",
   "execution_count": 20,
   "id": "4024ab30-927e-4609-adc8-b29604420232",
   "metadata": {},
   "outputs": [],
   "source": [
    "torch.save(pipeline, \"pipeline.pt\")"
   ]
  },
  {
   "cell_type": "markdown",
   "id": "e40486e1-8de3-48d5-a4cc-dd703b982957",
   "metadata": {},
   "source": [
    "# 4. Testing"
   ]
  },
  {
   "cell_type": "code",
   "execution_count": 36,
   "id": "c3117052-a11b-486f-bc8b-8bf1a550889f",
   "metadata": {},
   "outputs": [
    {
     "name": "stderr",
     "output_type": "stream",
     "text": [
      "C:\\Users\\vglg3\\AppData\\Local\\Temp\\ipykernel_17448\\4071785391.py:5: FutureWarning: You are using `torch.load` with `weights_only=False` (the current default value), which uses the default pickle module implicitly. It is possible to construct malicious pickle data which will execute arbitrary code during unpickling (See https://github.com/pytorch/pytorch/blob/main/SECURITY.md#untrusted-models for more details). In a future release, the default value for `weights_only` will be flipped to `True`. This limits the functions that could be executed during unpickling. Arbitrary objects will no longer be allowed to be loaded via this mode unless they are explicitly allowlisted by the user via `torch.serialization.add_safe_globals`. We recommend you start setting `weights_only=True` for any use case where you don't have full control of the loaded file. Please open an issue on GitHub for any issues related to this experimental feature.\n",
      "  model.load_state_dict(torch.load('model.pth'))\n"
     ]
    },
    {
     "data": {
      "text/plain": [
       "<All keys matched successfully>"
      ]
     },
     "execution_count": 36,
     "metadata": {},
     "output_type": "execute_result"
    }
   ],
   "source": [
    "from models import LandmarkEmbedding\n",
    "import torch\n",
    "\n",
    "model = LandmarkEmbedding(288)\n",
    "model.load_state_dict(torch.load('model.pth'))\n"
   ]
  },
  {
   "cell_type": "code",
   "execution_count": 37,
   "id": "43a63b7b-3017-4be8-8a38-5be898d0832a",
   "metadata": {},
   "outputs": [],
   "source": [
    "import cv2\n",
    "import mediapipe as mp\n",
    "import numpy as np\n",
    "\n",
    "# Initialize MediaPipe Hands\n",
    "mp_hands = mp.solutions.hands\n",
    "hands = mp_hands.Hands(static_image_mode=False, max_num_hands=1)\n",
    "\n",
    "# Initialize webcam\n",
    "cap = cv2.VideoCapture(0)\n",
    "\n",
    "while cap.isOpened():\n",
    "    ret, frame = cap.read()\n",
    "    if not ret:\n",
    "        break\n",
    "    \n",
    "    # Flip the frame for a natural selfie-view\n",
    "    frame = cv2.flip(frame, 1)\n",
    "\n",
    "    # Convert the BGR image to RGB\n",
    "    rgb_frame = cv2.cvtColor(frame, cv2.COLOR_BGR2RGB)\n",
    "\n",
    "    # Process the frame and detect hands\n",
    "    results = hands.process(rgb_frame)\n",
    "\n",
    "    if results.multi_hand_landmarks:\n",
    "        # Get landmarks for the first detected hand\n",
    "        hand_landmarks = results.multi_hand_landmarks[0]\n",
    "        \n",
    "        # Now we have the landmarks, proceed to the next step\n",
    "        # The loop will break to show the next steps\n",
    "        break\n",
    "\n",
    "cap.release()\n",
    "cv2.destroyAllWindows()"
   ]
  },
  {
   "cell_type": "code",
   "execution_count": 38,
   "id": "14d5b584-86fe-4721-a3cb-529e99f557ca",
   "metadata": {},
   "outputs": [
    {
     "name": "stdout",
     "output_type": "stream",
     "text": [
      "Prepared input data shape: (1, 63)\n"
     ]
    }
   ],
   "source": [
    "# Assuming 'hand_landmarks' is the variable from the previous step\n",
    "landmark_list = []\n",
    "for landmark in hand_landmarks.landmark:\n",
    "    landmark_list.append(landmark.x)\n",
    "    landmark_list.append(landmark.y)\n",
    "    landmark_list.append(landmark.z)\n",
    "\n",
    "# Convert the list to a NumPy array\n",
    "input_data = np.array(landmark_list)\n",
    "\n",
    "# Reshape the data to match your model's expected input shape\n",
    "# The shape is typically (1, 63)\n",
    "input_data = input_data.reshape(1, -1)\n",
    "print(f\"Prepared input data shape: {input_data.shape}\")"
   ]
  },
  {
   "cell_type": "code",
   "execution_count": 45,
   "id": "158e7e74-a60f-4927-a5d0-0873bda08ab4",
   "metadata": {},
   "outputs": [
    {
     "name": "stderr",
     "output_type": "stream",
     "text": [
      "C:\\Users\\vglg3\\AppData\\Local\\Temp\\ipykernel_17448\\1096974008.py:3: FutureWarning: You are using `torch.load` with `weights_only=False` (the current default value), which uses the default pickle module implicitly. It is possible to construct malicious pickle data which will execute arbitrary code during unpickling (See https://github.com/pytorch/pytorch/blob/main/SECURITY.md#untrusted-models for more details). In a future release, the default value for `weights_only` will be flipped to `True`. This limits the functions that could be executed during unpickling. Arbitrary objects will no longer be allowed to be loaded via this mode unless they are explicitly allowlisted by the user via `torch.serialization.add_safe_globals`. We recommend you start setting `weights_only=True` for any use case where you don't have full control of the loaded file. Please open an issue on GitHub for any issues related to this experimental feature.\n",
      "  pipeline = torch.load(\"pipeline.pt\")\n"
     ]
    },
    {
     "data": {
      "text/plain": [
       "tensor([[ 0.0415, -0.0128, -0.0374, -0.0771, -0.1414,  0.2168, -0.0677,  0.0643,\n",
       "          0.0844,  0.0557, -0.0012,  0.0743,  0.0301,  0.1018, -0.1100,  0.0707,\n",
       "          0.0168, -0.0655, -0.0688,  0.0274,  0.1551, -0.0216,  0.0509, -0.1002,\n",
       "          0.0103, -0.0194, -0.0955,  0.1084, -0.0214, -0.1221,  0.0408,  0.0487,\n",
       "         -0.0926, -0.0283,  0.1808,  0.1534,  0.0938,  0.0666, -0.1016, -0.0506,\n",
       "         -0.0740,  0.0749,  0.1168, -0.0231, -0.0450,  0.1054,  0.0695,  0.0594,\n",
       "          0.0235,  0.0721, -0.0018,  0.1707,  0.0844, -0.0207, -0.0390, -0.1598,\n",
       "         -0.0481, -0.1484,  0.0153,  0.0867,  0.0325,  0.0600, -0.1341,  0.1269,\n",
       "         -0.1665, -0.0061,  0.0609, -0.0025,  0.0956, -0.0341,  0.0610,  0.0253,\n",
       "          0.1423, -0.0215,  0.0121,  0.0238, -0.0605, -0.0357, -0.0364, -0.1827,\n",
       "          0.1082,  0.0401,  0.1429,  0.0052, -0.0672,  0.0176,  0.0771,  0.1152,\n",
       "          0.1034,  0.1791, -0.0953,  0.0423, -0.0097, -0.0886, -0.0382,  0.0638,\n",
       "         -0.0334, -0.1719, -0.0029, -0.0506, -0.0857, -0.0844, -0.0163, -0.0868,\n",
       "         -0.1172,  0.1493, -0.1264,  0.0295, -0.0263,  0.0518, -0.0574,  0.0016,\n",
       "         -0.2321,  0.0322, -0.0414,  0.0516, -0.0111,  0.0042, -0.0673,  0.1085,\n",
       "          0.1432,  0.0210,  0.0233,  0.0202, -0.1951,  0.0887,  0.1154,  0.0024]])"
      ]
     },
     "execution_count": 45,
     "metadata": {},
     "output_type": "execute_result"
    }
   ],
   "source": [
    "from models import HandNormalizer, HandFeature\n",
    "\n",
    "pipeline = torch.load(\"pipeline.pt\")\n",
    "processed = torch.tensor(np.expand_dims(pipeline(input_data), axis=0))\n",
    "\n",
    "# processed.shape\n",
    "with torch.no_grad():\n",
    "    output = model(processed)\n",
    "\n",
    "output"
   ]
  },
  {
   "cell_type": "code",
   "execution_count": 40,
   "id": "b739aa17-cd43-4076-a879-bf05a87a08da",
   "metadata": {},
   "outputs": [],
   "source": [
    "import numpy as np \n",
    "\n",
    "prototype = torch.tensor(np.load(\"prototypes.npy\"))\n",
    "labels = np.load(\"labels.npy\")"
   ]
  },
  {
   "cell_type": "code",
   "execution_count": 41,
   "id": "99565f7e-75f3-4612-9317-d5e9b678a912",
   "metadata": {},
   "outputs": [
    {
     "name": "stdout",
     "output_type": "stream",
     "text": [
      "point_down\n"
     ]
    }
   ],
   "source": [
    "result = converter(output, prototype, labels)\n",
    "\n",
    "print(result)"
   ]
  },
  {
   "cell_type": "code",
   "execution_count": 42,
   "id": "4c07f89b-62a3-4614-929d-a3caab5431fa",
   "metadata": {},
   "outputs": [
    {
     "data": {
      "image/png": "[encoded data removed]",
      "text/plain": [
       "<Figure size 400x400 with 1 Axes>"
      ]
     },
     "metadata": {},
     "output_type": "display_data"
    }
   ],
   "source": [
    "plot_hand(input_data.reshape(-1, 3))"
   ]
  },
  {
   "cell_type": "code",
   "execution_count": null,
   "id": "ac495158-a30d-4bde-ba67-fe64abfdffb3",
   "metadata": {},
   "outputs": [],
   "source": []
  }
 ],
 "metadata": {
  "kernelspec": {
   "display_name": "Python 3 (ipykernel)",
   "language": "python",
   "name": "python3"
  },
  "language_info": {
   "codemirror_mode": {
    "name": "ipython",
    "version": 3
   },
   "file_extension": ".py",
   "mimetype": "text/x-python",
   "name": "python",
   "nbconvert_exporter": "python",
   "pygments_lexer": "ipython3",
   "version": "3.10.16"
  }
 },
 "nbformat": 4,
 "nbformat_minor": 5
}
